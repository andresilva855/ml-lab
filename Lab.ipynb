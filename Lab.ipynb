{
  "nbformat": 4,
  "nbformat_minor": 0,
  "metadata": {
    "colab": {
      "provenance": [],
      "authorship_tag": "ABX9TyOBiTuD1B7Jikqy2ZDJROhv",
      "include_colab_link": true
    },
    "kernelspec": {
      "name": "python3",
      "display_name": "Python 3"
    },
    "language_info": {
      "name": "python"
    }
  },
  "cells": [
    {
      "cell_type": "markdown",
      "metadata": {
        "id": "view-in-github",
        "colab_type": "text"
      },
      "source": [
        "<a href=\"https://colab.research.google.com/github/andresilva855/ml-lab/blob/main/Lab.ipynb\" target=\"_parent\"><img src=\"https://colab.research.google.com/assets/colab-badge.svg\" alt=\"Open In Colab\"/></a>"
      ]
    },
    {
      "cell_type": "markdown",
      "source": [
        "# **Preparacao**"
      ],
      "metadata": {
        "id": "d0RP4uhRkl27"
      }
    },
    {
      "cell_type": "code",
      "execution_count": 43,
      "metadata": {
        "id": "pJapFA_zn9ha"
      },
      "outputs": [],
      "source": [
        "import torch\n",
        "import tensorflow as tf\n",
        "import numpy as np"
      ]
    },
    {
      "cell_type": "markdown",
      "source": [
        "# **Testes utilizando Numpy**"
      ],
      "metadata": {
        "id": "AjjhmwEygBTN"
      }
    },
    {
      "cell_type": "code",
      "source": [
        "X = np.array([[10, 25], [32, 45], [12, 18]])\n",
        "r, c = X.shape\n",
        "print(r)\n",
        "print(c)"
      ],
      "metadata": {
        "colab": {
          "base_uri": "https://localhost:8080/"
        },
        "id": "EokOemdSdB2b",
        "outputId": "183eccc3-42bd-4221-9cb1-f4e6ef6f5f16"
      },
      "execution_count": 44,
      "outputs": [
        {
          "output_type": "stream",
          "name": "stdout",
          "text": [
            "3\n",
            "2\n"
          ]
        }
      ]
    },
    {
      "cell_type": "code",
      "source": [
        "X"
      ],
      "metadata": {
        "colab": {
          "base_uri": "https://localhost:8080/"
        },
        "id": "nqygopQ0fgzt",
        "outputId": "e4fa7be9-d82f-4cfe-ab75-8322d8c05f08"
      },
      "execution_count": 45,
      "outputs": [
        {
          "output_type": "execute_result",
          "data": {
            "text/plain": [
              "array([[10, 25],\n",
              "       [32, 45],\n",
              "       [12, 18]])"
            ]
          },
          "metadata": {},
          "execution_count": 45
        }
      ]
    },
    {
      "cell_type": "code",
      "source": [
        "X[:,0]"
      ],
      "metadata": {
        "colab": {
          "base_uri": "https://localhost:8080/"
        },
        "id": "nfiYG0NufNFU",
        "outputId": "25dda10c-d4c0-492c-c114-c9ca36692527"
      },
      "execution_count": 46,
      "outputs": [
        {
          "output_type": "execute_result",
          "data": {
            "text/plain": [
              "array([10, 32, 12])"
            ]
          },
          "metadata": {},
          "execution_count": 46
        }
      ]
    },
    {
      "cell_type": "code",
      "source": [
        "X[0,:]"
      ],
      "metadata": {
        "colab": {
          "base_uri": "https://localhost:8080/"
        },
        "id": "vuKCklQvfSq-",
        "outputId": "eedda1a1-2ea3-464b-ccd9-5a640a0f58a5"
      },
      "execution_count": 47,
      "outputs": [
        {
          "output_type": "execute_result",
          "data": {
            "text/plain": [
              "array([10, 25])"
            ]
          },
          "metadata": {},
          "execution_count": 47
        }
      ]
    },
    {
      "cell_type": "markdown",
      "source": [
        "# **Testes utilizando PyTorch**"
      ],
      "metadata": {
        "id": "C4TdE_fKgmqC"
      }
    },
    {
      "cell_type": "code",
      "source": [
        "p_X = torch.tensor([[10,25],[32,45],[12,18]])\n",
        "p_X"
      ],
      "metadata": {
        "colab": {
          "base_uri": "https://localhost:8080/"
        },
        "id": "GOt-F0_2gwco",
        "outputId": "538034bc-3b7f-4803-86de-c3f48e73a325"
      },
      "execution_count": 48,
      "outputs": [
        {
          "output_type": "execute_result",
          "data": {
            "text/plain": [
              "tensor([[10, 25],\n",
              "        [32, 45],\n",
              "        [12, 18]])"
            ]
          },
          "metadata": {},
          "execution_count": 48
        }
      ]
    },
    {
      "cell_type": "code",
      "source": [
        "p_X.shape"
      ],
      "metadata": {
        "colab": {
          "base_uri": "https://localhost:8080/"
        },
        "id": "HyGRR14JKIfx",
        "outputId": "1f1fe8ef-ac35-4b74-f57a-c113c0f84aa4"
      },
      "execution_count": 49,
      "outputs": [
        {
          "output_type": "execute_result",
          "data": {
            "text/plain": [
              "torch.Size([3, 2])"
            ]
          },
          "metadata": {},
          "execution_count": 49
        }
      ]
    },
    {
      "cell_type": "code",
      "source": [
        "p_X[:,0]"
      ],
      "metadata": {
        "colab": {
          "base_uri": "https://localhost:8080/"
        },
        "id": "C-wfHSBahiVv",
        "outputId": "328026ab-9263-4081-cc73-e92d8b9f1eec"
      },
      "execution_count": 50,
      "outputs": [
        {
          "output_type": "execute_result",
          "data": {
            "text/plain": [
              "tensor([10, 32, 12])"
            ]
          },
          "metadata": {},
          "execution_count": 50
        }
      ]
    },
    {
      "cell_type": "markdown",
      "source": [
        "# **Testes utilizando Tensor Flow**"
      ],
      "metadata": {
        "id": "05KuFUQwL5Hs"
      }
    },
    {
      "cell_type": "code",
      "source": [
        "t_X = tf.Variable([[10, 25], [32, 45], [12, 18]])\n",
        "t_X"
      ],
      "metadata": {
        "colab": {
          "base_uri": "https://localhost:8080/"
        },
        "id": "xNkk5z_xMC8U",
        "outputId": "39bfd5ca-4d96-4b1a-95b3-aa48ecd986d6"
      },
      "execution_count": 51,
      "outputs": [
        {
          "output_type": "execute_result",
          "data": {
            "text/plain": [
              "<tf.Variable 'Variable:0' shape=(3, 2) dtype=int32, numpy=\n",
              "array([[10, 25],\n",
              "       [32, 45],\n",
              "       [12, 18]], dtype=int32)>"
            ]
          },
          "metadata": {},
          "execution_count": 51
        }
      ]
    },
    {
      "cell_type": "code",
      "source": [
        "t_X.shape"
      ],
      "metadata": {
        "colab": {
          "base_uri": "https://localhost:8080/"
        },
        "id": "lXadzJAIM90p",
        "outputId": "9225873a-0b07-498b-d246-b7bf270a7004"
      },
      "execution_count": 52,
      "outputs": [
        {
          "output_type": "execute_result",
          "data": {
            "text/plain": [
              "TensorShape([3, 2])"
            ]
          },
          "metadata": {},
          "execution_count": 52
        }
      ]
    },
    {
      "cell_type": "code",
      "source": [
        "tf.shape(t_X)"
      ],
      "metadata": {
        "colab": {
          "base_uri": "https://localhost:8080/"
        },
        "id": "VgC7DpdKNzib",
        "outputId": "8a3d7b97-0e2c-4a0f-cbf0-e516b2da8192"
      },
      "execution_count": 53,
      "outputs": [
        {
          "output_type": "execute_result",
          "data": {
            "text/plain": [
              "<tf.Tensor: shape=(2,), dtype=int32, numpy=array([3, 2], dtype=int32)>"
            ]
          },
          "metadata": {},
          "execution_count": 53
        }
      ]
    },
    {
      "cell_type": "code",
      "source": [
        "t_X[:,1]"
      ],
      "metadata": {
        "colab": {
          "base_uri": "https://localhost:8080/"
        },
        "id": "xtNQ1BO2MwYh",
        "outputId": "b1c96743-153e-42a1-96b4-b4cc045bd475"
      },
      "execution_count": 54,
      "outputs": [
        {
          "output_type": "execute_result",
          "data": {
            "text/plain": [
              "<tf.Tensor: shape=(3,), dtype=int32, numpy=array([25, 45, 18], dtype=int32)>"
            ]
          },
          "metadata": {},
          "execution_count": 54
        }
      ]
    },
    {
      "cell_type": "markdown",
      "source": [
        "# **Tranposicao**"
      ],
      "metadata": {
        "id": "p2FUfOQ2ZUY_"
      }
    },
    {
      "cell_type": "code",
      "source": [
        "X.T # NumPy example"
      ],
      "metadata": {
        "colab": {
          "base_uri": "https://localhost:8080/"
        },
        "id": "UrWG4PY3Zhv3",
        "outputId": "91c37d0f-7b3a-44a7-9fc5-43cd2e63956a"
      },
      "execution_count": 55,
      "outputs": [
        {
          "output_type": "execute_result",
          "data": {
            "text/plain": [
              "array([[10, 32, 12],\n",
              "       [25, 45, 18]])"
            ]
          },
          "metadata": {},
          "execution_count": 55
        }
      ]
    },
    {
      "cell_type": "code",
      "source": [
        "p_X.T # PyTorch example"
      ],
      "metadata": {
        "colab": {
          "base_uri": "https://localhost:8080/"
        },
        "id": "koz2aiL9aTiJ",
        "outputId": "fa54fb1c-4939-474b-ea01-1882bbc62365"
      },
      "execution_count": 56,
      "outputs": [
        {
          "output_type": "execute_result",
          "data": {
            "text/plain": [
              "tensor([[10, 32, 12],\n",
              "        [25, 45, 18]])"
            ]
          },
          "metadata": {},
          "execution_count": 56
        }
      ]
    },
    {
      "cell_type": "code",
      "source": [
        "tf.transpose(t_X) # Rensor Flow example"
      ],
      "metadata": {
        "colab": {
          "base_uri": "https://localhost:8080/"
        },
        "id": "wyk2WzPramhm",
        "outputId": "f5da92b9-04e4-4f41-ea50-c300701809e9"
      },
      "execution_count": 57,
      "outputs": [
        {
          "output_type": "execute_result",
          "data": {
            "text/plain": [
              "<tf.Tensor: shape=(2, 3), dtype=int32, numpy=\n",
              "array([[10, 32, 12],\n",
              "       [25, 45, 18]], dtype=int32)>"
            ]
          },
          "metadata": {},
          "execution_count": 57
        }
      ]
    },
    {
      "cell_type": "markdown",
      "source": [
        "# **Simples operacoes aritimeticas**"
      ],
      "metadata": {
        "id": "lHyaZdYmbrrT"
      }
    },
    {
      "cell_type": "code",
      "source": [
        "X * 2"
      ],
      "metadata": {
        "colab": {
          "base_uri": "https://localhost:8080/"
        },
        "id": "dzoOg7zDb3Nt",
        "outputId": "51bb18e6-d42e-4d3b-a12e-9b8e8b55dedf"
      },
      "execution_count": 58,
      "outputs": [
        {
          "output_type": "execute_result",
          "data": {
            "text/plain": [
              "array([[20, 50],\n",
              "       [64, 90],\n",
              "       [24, 36]])"
            ]
          },
          "metadata": {},
          "execution_count": 58
        }
      ]
    },
    {
      "cell_type": "code",
      "source": [
        "X + 2"
      ],
      "metadata": {
        "colab": {
          "base_uri": "https://localhost:8080/"
        },
        "id": "888lfAAWb8eY",
        "outputId": "a6f4c241-5908-483f-8fc7-a7ff8cfa17ce"
      },
      "execution_count": 59,
      "outputs": [
        {
          "output_type": "execute_result",
          "data": {
            "text/plain": [
              "array([[12, 27],\n",
              "       [34, 47],\n",
              "       [14, 20]])"
            ]
          },
          "metadata": {},
          "execution_count": 59
        }
      ]
    },
    {
      "cell_type": "code",
      "source": [
        "X * 2 + 2"
      ],
      "metadata": {
        "colab": {
          "base_uri": "https://localhost:8080/"
        },
        "id": "LE3YUTkxcCdj",
        "outputId": "d3fa5e7a-5cff-41a1-dbec-526b5dfe79cb"
      },
      "execution_count": 61,
      "outputs": [
        {
          "output_type": "execute_result",
          "data": {
            "text/plain": [
              "array([[22, 52],\n",
              "       [66, 92],\n",
              "       [26, 38]])"
            ]
          },
          "metadata": {},
          "execution_count": 61
        }
      ]
    },
    {
      "cell_type": "markdown",
      "source": [
        "# **Reducoes**"
      ],
      "metadata": {
        "id": "jFhwQDLujVxo"
      }
    },
    {
      "cell_type": "code",
      "source": [
        "X"
      ],
      "metadata": {
        "id": "agB_oylljZr7",
        "outputId": "100de1d4-a4c2-4199-9080-94a67d72bfd5",
        "colab": {
          "base_uri": "https://localhost:8080/"
        }
      },
      "execution_count": 63,
      "outputs": [
        {
          "output_type": "execute_result",
          "data": {
            "text/plain": [
              "array([[10, 25],\n",
              "       [32, 45],\n",
              "       [12, 18]])"
            ]
          },
          "metadata": {},
          "execution_count": 63
        }
      ]
    },
    {
      "cell_type": "code",
      "source": [
        "X.sum()"
      ],
      "metadata": {
        "id": "fkm1GzV_jggU",
        "outputId": "734c5e61-6c11-4bf8-99eb-43adf72c4a64",
        "colab": {
          "base_uri": "https://localhost:8080/"
        }
      },
      "execution_count": 64,
      "outputs": [
        {
          "output_type": "execute_result",
          "data": {
            "text/plain": [
              "142"
            ]
          },
          "metadata": {},
          "execution_count": 64
        }
      ]
    },
    {
      "cell_type": "code",
      "source": [
        "torch.sum(p_X)"
      ],
      "metadata": {
        "id": "i_pgutjqjnEc",
        "outputId": "b4f8b1af-c447-47e3-ed70-f730af8da075",
        "colab": {
          "base_uri": "https://localhost:8080/"
        }
      },
      "execution_count": 65,
      "outputs": [
        {
          "output_type": "execute_result",
          "data": {
            "text/plain": [
              "tensor(142)"
            ]
          },
          "metadata": {},
          "execution_count": 65
        }
      ]
    },
    {
      "cell_type": "code",
      "source": [
        "tf.reduce_sum(t_X)"
      ],
      "metadata": {
        "id": "s7nfIugMjqqR",
        "outputId": "1a1ccff1-071c-47ea-d73d-161d1e142128",
        "colab": {
          "base_uri": "https://localhost:8080/"
        }
      },
      "execution_count": 67,
      "outputs": [
        {
          "output_type": "execute_result",
          "data": {
            "text/plain": [
              "<tf.Tensor: shape=(), dtype=int32, numpy=142>"
            ]
          },
          "metadata": {},
          "execution_count": 67
        }
      ]
    },
    {
      "cell_type": "code",
      "source": [
        "X.sum(axis=0)"
      ],
      "metadata": {
        "id": "0m54bap0j3ol",
        "outputId": "da14f348-e994-4446-d31e-efa46fd1e67e",
        "colab": {
          "base_uri": "https://localhost:8080/"
        }
      },
      "execution_count": 68,
      "outputs": [
        {
          "output_type": "execute_result",
          "data": {
            "text/plain": [
              "array([54, 88])"
            ]
          },
          "metadata": {},
          "execution_count": 68
        }
      ]
    },
    {
      "cell_type": "code",
      "source": [
        "X.sum(axis=1)"
      ],
      "metadata": {
        "id": "Ec-jbkJbj7O_",
        "outputId": "c92268a7-97f1-43c4-cc32-5e80d986da66",
        "colab": {
          "base_uri": "https://localhost:8080/"
        }
      },
      "execution_count": 69,
      "outputs": [
        {
          "output_type": "execute_result",
          "data": {
            "text/plain": [
              "array([35, 77, 30])"
            ]
          },
          "metadata": {},
          "execution_count": 69
        }
      ]
    },
    {
      "cell_type": "code",
      "source": [
        "torch.sum(p_X, 0)"
      ],
      "metadata": {
        "id": "okmY_0fpkNXn",
        "outputId": "af2fd1e7-1f55-4c70-a0b0-3503edfc745f",
        "colab": {
          "base_uri": "https://localhost:8080/"
        }
      },
      "execution_count": 70,
      "outputs": [
        {
          "output_type": "execute_result",
          "data": {
            "text/plain": [
              "tensor([54, 88])"
            ]
          },
          "metadata": {},
          "execution_count": 70
        }
      ]
    },
    {
      "cell_type": "code",
      "source": [
        "torch.sum(p_X, 1)"
      ],
      "metadata": {
        "id": "J9uJeCrkkRhS",
        "outputId": "f9591a7f-ce93-44a5-e8f8-e44f1fd96dd3",
        "colab": {
          "base_uri": "https://localhost:8080/"
        }
      },
      "execution_count": 71,
      "outputs": [
        {
          "output_type": "execute_result",
          "data": {
            "text/plain": [
              "tensor([35, 77, 30])"
            ]
          },
          "metadata": {},
          "execution_count": 71
        }
      ]
    },
    {
      "cell_type": "code",
      "source": [
        "tf.reduce_sum(t_X, 0)"
      ],
      "metadata": {
        "id": "i1YOYNlIkVWT",
        "outputId": "0a7ca6b8-1c92-4df2-e838-79bd6e9218c0",
        "colab": {
          "base_uri": "https://localhost:8080/"
        }
      },
      "execution_count": 72,
      "outputs": [
        {
          "output_type": "execute_result",
          "data": {
            "text/plain": [
              "<tf.Tensor: shape=(2,), dtype=int32, numpy=array([54, 88], dtype=int32)>"
            ]
          },
          "metadata": {},
          "execution_count": 72
        }
      ]
    },
    {
      "cell_type": "code",
      "source": [
        "tf.reduce_sum(t_X, 1)"
      ],
      "metadata": {
        "id": "sHptiXhnkZVg",
        "outputId": "3151d428-9145-49ae-dce9-728a0f0a475a",
        "colab": {
          "base_uri": "https://localhost:8080/"
        }
      },
      "execution_count": 73,
      "outputs": [
        {
          "output_type": "execute_result",
          "data": {
            "text/plain": [
              "<tf.Tensor: shape=(3,), dtype=int32, numpy=array([35, 77, 30], dtype=int32)>"
            ]
          },
          "metadata": {},
          "execution_count": 73
        }
      ]
    }
  ]
}